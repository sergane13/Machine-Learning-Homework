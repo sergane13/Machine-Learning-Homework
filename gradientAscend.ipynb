{
 "cells": [
  {
   "cell_type": "code",
   "execution_count": null,
   "metadata": {},
   "outputs": [
    {
     "name": "stdout",
     "output_type": "stream",
     "text": [
      "Iterația 0, Log-verosimilitate: -4.2487\n",
      "Iterația 100, Log-verosimilitate: -0.7023\n",
      "Iterația 200, Log-verosimilitate: -0.4034\n",
      "Iterația 300, Log-verosimilitate: -0.2825\n",
      "Iterația 400, Log-verosimilitate: -0.2169\n",
      "Iterația 500, Log-verosimilitate: -0.1758\n",
      "Iterația 600, Log-verosimilitate: -0.1477\n",
      "Iterația 700, Log-verosimilitate: -0.1273\n",
      "Iterația 800, Log-verosimilitate: -0.1118\n",
      "Iterația 900, Log-verosimilitate: -0.0996\n",
      "\n",
      "Ponderile finale:\n",
      "w_0 = -2.9104\n",
      "w_1 = -8.1071\n",
      "w_2 = 7.1722\n",
      "w_3 = -0.6503\n"
     ]
    }
   ],
   "source": [
    "import numpy as np\n",
    "\n",
    "# Datele din tabelul oferit\n",
    "X = np.array([\n",
    "    [1, 0, 0],  # Atributele de intrare\n",
    "    [0, 0, 1],\n",
    "    [1, 0, 0],\n",
    "    [1, 1, 0],\n",
    "    [0, 1, 0],\n",
    "    [0, 1, 1]\n",
    "])\n",
    "\n",
    "# Valorile de ieșire (1 = Spam, 0 = Regular)\n",
    "y = np.array([0, 0, 0, 0, 1, 1])\n",
    "\n",
    "# Adăugăm coloana de bias (pentru w_0)\n",
    "X = np.hstack((np.ones((X.shape[0], 1)), X))\n",
    "\n",
    "# Inițializăm ponderile cu valori mici aleatorii\n",
    "np.random.seed(42)\n",
    "weights = np.random.uniform(-0.1, 0.1, X.shape[1])\n",
    "\n",
    "# Hiperparametrii\n",
    "learning_rate = 0.1\n",
    "num_iterations = 1000\n",
    "\n",
    "# Funcția sigmoidă\n",
    "def sigmoid(z):\n",
    "    return 1 / (1 + np.exp(-z))\n",
    "\n",
    "# Gradient ascent\n",
    "for i in range(num_iterations):\n",
    "    # Calculăm predicțiile\n",
    "    z = np.dot(X, weights)\n",
    "    predictions = sigmoid(z)\n",
    "    \n",
    "    # Calculăm eroarea\n",
    "    error = y - predictions\n",
    "    \n",
    "    # Actualizăm ponderile folosind gradientul\n",
    "    gradient = np.dot(X.T, error)\n",
    "    weights += learning_rate * gradient\n",
    "\n",
    "    if i % 100 == 0:\n",
    "        log_likelihood = np.sum(y * np.log(predictions) + (1 - y) * np.log(1 - predictions))\n",
    "        print(f\"Iterația {i}, Log-verosimilitate: {log_likelihood:.4f}\")\n",
    "\n",
    "# Afișăm ponderile finale\n",
    "print(\"\\nPonderile finale:\")\n",
    "for i, w in enumerate(weights):\n",
    "    print(f\"w_{i} = {w:.4f}\")\n"
   ]
  }
 ],
 "metadata": {
  "kernelspec": {
   "display_name": "Python 3",
   "language": "python",
   "name": "python3"
  },
  "language_info": {
   "codemirror_mode": {
    "name": "ipython",
    "version": 3
   },
   "file_extension": ".py",
   "mimetype": "text/x-python",
   "name": "python",
   "nbconvert_exporter": "python",
   "pygments_lexer": "ipython3",
   "version": "3.10.2"
  }
 },
 "nbformat": 4,
 "nbformat_minor": 2
}
